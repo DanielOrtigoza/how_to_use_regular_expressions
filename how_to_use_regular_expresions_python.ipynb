{
 "cells": [
  {
   "cell_type": "markdown",
   "metadata": {},
   "source": [
    "# How to use regular expresion\n",
    "\n",
    "This is a quick guide on how to use regular expression with python."
   ]
  },
  {
   "cell_type": "markdown",
   "metadata": {},
   "source": [
    "Some tricks into using markdown, how to insert spaces:\n",
    "\n",
    "- Type nbsp to add a single space.\n",
    "- Type ensp to add 2 spaces.\n",
    "- Type emsp to add 4 spaces.\n",
    "\n",
    "You can use non-breaking space (nbsp) 4 times to insert a tab.\n",
    "\n",
    "Please append <span style = \"color:magenta\"> & </span>  in the beginning and <span style = \"color:magenta\"> ; </span> in the end of the above suggested space syntax."
   ]
  },
  {
   "cell_type": "markdown",
   "metadata": {},
   "source": [
    "## Regular Expression Quick Guide\n",
    "\n",
    "- ^ &nbsp; Matches the <span style = \"color:magenta\"> beginning </span> of a line\n",
    "- $ &nbsp; Matches the <span style = \"color:magenta\"> end </span> of the line\n",
    "- . &nbsp; Matches <span style = \"color:magenta\"> any </span> character\n",
    "- \\s &nbsp; Matches <span style = \"color:magenta\"> whitespace </span>\n",
    "- \\S &nbsp; Matches any <span style = \"color:magenta\"> non-whitespace </span> character\n",
    "- \\* &nbsp; <span style = \"color:magenta\"> Repeats </span> a character zero or more times\n",
    "- \\*? &nbsp; <span style = \"color:magenta\"> Repeats </span> a character zero or more times (non-greedy)\n",
    "- \\+ &nbsp; <span style = \"color:magenta\"> Repeats </span> a character one or more times\n",
    "- \\+? &nbsp; <span style = \"color:magenta\"> Repeats </span> a character one or more times (non-greedy)\n",
    "- [aeiou] &nbsp; Matches a single character <span style = \"color:magenta\"> in </span> the listed <span style = \"color:magenta\"> set </span>\n",
    "- [^XYZ] &nbsp; Matches a single character <span style = \"color:magenta\"> not in </span> the listed <span style = \"color:magenta\"> set </span>\n",
    "- [a-z0-9] &nbsp; The set of characters can include a <span style = \"color:magenta\"> range </span>\n",
    "- ( &nbsp; Indicates where string <span style = \"color:magenta\"> extraction </span> is to start\n",
    "- ) &nbsp; Indicates where string <span style = \"color:magenta\"> extraction </span> is to end"
   ]
  },
  {
   "cell_type": "markdown",
   "metadata": {},
   "source": [
    "## The Regular Expression Module\n",
    "\n",
    "- Before oyu can use regular expressions in your program, you must import the library using \"<span style = \"color:lime\">import re</span>\".\n",
    "- You can use <span style = \"color:lime\">re.search()</span> to see if a string matches a regular expression, similar to using the <span style = \"color:magenta\">str.find()</span> method for strings.\n",
    "- You can use <span style = \"color:lime\">re.findall()</span> to extract portions of a string that matchs your regular expression, similar to a combination of <span style = \"color:magenta\">str.find()</span> and slicing."
   ]
  },
  {
   "cell_type": "markdown",
   "metadata": {},
   "source": [
    "The structure of the following code is to show you different patterns as an example on how you may use regular expressions. The structure will be as following, each cell will contain a pattern an each one will print each match of the regular in the same line, what a i mean with that is, if there is 4 match of the regular expression in the same line, the output will be a list with each match:\n",
    "\n",
    "- ['match 1','match 2','match 3','match 4']\n",
    "\n",
    "hence, each matched-list correspond to a individual line."
   ]
  },
  {
   "cell_type": "code",
   "execution_count": 11,
   "metadata": {},
   "outputs": [],
   "source": [
    "import re"
   ]
  },
  {
   "cell_type": "code",
   "execution_count": 12,
   "metadata": {},
   "outputs": [
    {
     "name": "stdout",
     "output_type": "stream",
     "text": [
      "The text we are working with is:\n",
      "\n",
      "1\n",
      "12\n",
      "123\n",
      "1234\n",
      "12345\n",
      "12345f6789\n",
      "12d345g676h\n",
      "12d345g676her\n",
      "12d345g676her33654ytf\n",
      "hi, this is a bunch of letter\n",
      "worddddd\n",
      "123 word 123343\n"
     ]
    }
   ],
   "source": [
    "text = open('text_files_for_python_notebook/text_file_1.txt', 'r')\n",
    "\n",
    "print('The text we are working with is:\\n')\n",
    "for i in text:\n",
    "    print(i.rstrip())"
   ]
  },
  {
   "cell_type": "markdown",
   "metadata": {},
   "source": [
    "### Example 1\n",
    "\n",
    "Matching numbers one or more time followed by a letter."
   ]
  },
  {
   "cell_type": "code",
   "execution_count": 13,
   "metadata": {},
   "outputs": [
    {
     "name": "stdout",
     "output_type": "stream",
     "text": [
      "Match one or more digits but ends in a word: ['12345f']\n",
      "Match one or more digits but ends in a word: ['12d', '345g', '676h']\n",
      "Match one or more digits but ends in a word: ['12d', '345g', '676h']\n",
      "Match one or more digits but ends in a word: ['12d', '345g', '676h', '33654y']\n",
      "\n",
      "Rows that do not match 8\n",
      "Rows that do match 4\n",
      "Total number of rows: 12\n"
     ]
    }
   ],
   "source": [
    "text = open('text_files_for_python_notebook/text_file_1.txt', 'r')\n",
    "\n",
    "c1 = 0\n",
    "c2 = 0\n",
    "pattern = '\\d+[a-z]'\n",
    "pattern_text = 'Match one or more digits but ends in a word:'\n",
    "\n",
    "for line in text:\n",
    "    line = line.rstrip()\n",
    "    if not re.search(pattern, line):\n",
    "        c1 = c1 + 1\n",
    "        continue\n",
    "    c2 = c2 + 1\n",
    "    print(pattern_text, re.findall(pattern, line))\n",
    "\n",
    "print('\\nRows that do not match', c1)\n",
    "print('Rows that do match', c2)\n",
    "print('Total number of rows:', c1 + c2)"
   ]
  },
  {
   "cell_type": "markdown",
   "metadata": {},
   "source": [
    "### Example 2\n",
    "\n",
    "Matching numbers cero or more time followed by a letter."
   ]
  },
  {
   "cell_type": "code",
   "execution_count": 14,
   "metadata": {},
   "outputs": [
    {
     "name": "stdout",
     "output_type": "stream",
     "text": [
      "Match zero or more digits but ends in a word: ['12345f']\n",
      "Match zero or more digits but ends in a word: ['12d', '345g', '676h']\n",
      "Match zero or more digits but ends in a word: ['12d', '345g', '676h', 'e', 'r']\n",
      "Match zero or more digits but ends in a word: ['12d', '345g', '676h', 'e', 'r', '33654y', 't', 'f']\n",
      "Match zero or more digits but ends in a word: ['h', 'i', 't', 'h', 'i', 's', 'i', 's', 'a', 'b', 'u', 'n', 'c', 'h', 'o', 'f', 'l', 'e', 't', 't', 'e', 'r']\n",
      "Match zero or more digits but ends in a word: ['w', 'o', 'r', 'd', 'd', 'd', 'd', 'd']\n",
      "Match zero or more digits but ends in a word: ['w', 'o', 'r', 'd']\n",
      "\n",
      "Rows that do not match 5\n",
      "Rows that do match 7\n",
      "Total number of rows: 12\n"
     ]
    }
   ],
   "source": [
    "text = open('text_files_for_python_notebook/text_file_1.txt', 'r')\n",
    "\n",
    "c1 = 0\n",
    "c2 = 0\n",
    "pattern = '\\d*[a-z]'\n",
    "pattern_text = 'Match zero or more digits but ends in a word:'\n",
    "\n",
    "for line in text:\n",
    "    line = line.rstrip()\n",
    "    if not re.search(pattern, line):\n",
    "        c1 = c1 + 1\n",
    "        continue\n",
    "    c2 = c2 + 1\n",
    "    print(pattern_text, re.findall(pattern, line))\n",
    "\n",
    "print('\\nRows that do not match', c1)\n",
    "print('Rows that do match', c2)\n",
    "print('Total number of rows:', c1 + c2)"
   ]
  },
  {
   "cell_type": "markdown",
   "metadata": {},
   "source": [
    "### Example 3\n",
    "\n",
    "Matching numbers one or more time followed by two letters."
   ]
  },
  {
   "cell_type": "code",
   "execution_count": 15,
   "metadata": {},
   "outputs": [
    {
     "name": "stdout",
     "output_type": "stream",
     "text": [
      "Match one or more digits but ends in two words: ['676he']\n",
      "Match one or more digits but ends in two words: ['676he', '33654yt']\n",
      "\n",
      "Rows that do not match 10\n",
      "Rows that do match 2\n",
      "Total number of rows: 12\n"
     ]
    }
   ],
   "source": [
    "text = open('text_files_for_python_notebook/text_file_1.txt', 'r')\n",
    "\n",
    "c1 = 0\n",
    "c2 = 0\n",
    "pattern = '\\d+[a-z][a-z]'\n",
    "pattern_text = 'Match one or more digits but ends in two words:'\n",
    "\n",
    "for line in text:\n",
    "    line = line.rstrip()\n",
    "    if not re.search(pattern, line):\n",
    "        c1 = c1 + 1\n",
    "        continue\n",
    "    c2 = c2 + 1\n",
    "    print(pattern_text, re.findall(pattern, line))\n",
    "\n",
    "print('\\nRows that do not match', c1)\n",
    "print('Rows that do match', c2)\n",
    "print('Total number of rows:', c1 + c2)"
   ]
  },
  {
   "cell_type": "markdown",
   "metadata": {},
   "source": [
    "### Example 4\n",
    "\n",
    "Matching numbers one or more time followed by tow letters, the first one is obligatory, the second one is optional."
   ]
  },
  {
   "cell_type": "code",
   "execution_count": 16,
   "metadata": {},
   "outputs": [
    {
     "name": "stdout",
     "output_type": "stream",
     "text": [
      "Match one or more digits follow by a word and ends with one word o no (the second word is optional): ['12345f']\n",
      "Match one or more digits follow by a word and ends with one word o no (the second word is optional): ['12d', '345g', '676h']\n",
      "Match one or more digits follow by a word and ends with one word o no (the second word is optional): ['12d', '345g', '676he']\n",
      "Match one or more digits follow by a word and ends with one word o no (the second word is optional): ['12d', '345g', '676he', '33654yt']\n",
      "\n",
      "Rows that do not match 8\n",
      "Rows that do match 4\n",
      "Total number of rows: 12\n"
     ]
    }
   ],
   "source": [
    "text = open('text_files_for_python_notebook/text_file_1.txt', 'r')\n",
    "\n",
    "c1 = 0\n",
    "c2 = 0\n",
    "pattern = '\\d+[a-z][a-z]?'\n",
    "pattern_text = 'Match one or more digits follow by a word and ends with one word o no (the second word is optional):'\n",
    "\n",
    "for line in text:\n",
    "    line = line.rstrip()\n",
    "    if not re.search(pattern, line):\n",
    "        c1 = c1 + 1\n",
    "        continue\n",
    "    c2 = c2 + 1\n",
    "    print(pattern_text, re.findall(pattern, line))\n",
    "\n",
    "print('\\nRows that do not match', c1)\n",
    "print('Rows that do match', c2)\n",
    "print('Total number of rows:', c1 + c2)"
   ]
  },
  {
   "cell_type": "markdown",
   "metadata": {},
   "source": [
    "### Example 5\n",
    "\n",
    "Matching numbers one or more time followed by any letter and a second letter witch is a 's'."
   ]
  },
  {
   "cell_type": "code",
   "execution_count": 17,
   "metadata": {},
   "outputs": [
    {
     "name": "stdout",
     "output_type": "stream",
     "text": [
      "Match one or more digits follow by a word and ends with a s (the s is optional): ['12345f']\n",
      "Match one or more digits follow by a word and ends with a s (the s is optional): ['12d', '345g', '676h']\n",
      "Match one or more digits follow by a word and ends with a s (the s is optional): ['12d', '345g', '676h']\n",
      "Match one or more digits follow by a word and ends with a s (the s is optional): ['12d', '345g', '676h', '33654y']\n",
      "\n",
      "Rows that do not match 8\n",
      "Rows that do match 4\n",
      "Total number of rows: 12\n"
     ]
    }
   ],
   "source": [
    "text = open('text_files_for_python_notebook/text_file_1.txt', 'r')\n",
    "\n",
    "c1 = 0\n",
    "c2 = 0\n",
    "pattern = '\\d+[a-z]s?'\n",
    "pattern_text = 'Match one or more digits follow by a word and ends with a s (the s is optional):'\n",
    "\n",
    "for line in text:\n",
    "    line = line.rstrip()\n",
    "    if not re.search(pattern, line):\n",
    "        c1 = c1 + 1\n",
    "        continue\n",
    "    c2 = c2 + 1\n",
    "    print(pattern_text, re.findall(pattern, line))\n",
    "\n",
    "print('\\nRows that do not match', c1)\n",
    "print('Rows that do match', c2)\n",
    "print('Total number of rows:', c1 + c2)"
   ]
  },
  {
   "cell_type": "markdown",
   "metadata": {},
   "source": [
    "### Example 6 \n",
    "\n",
    "Using {} to specify the number of digits to be matched. The syntax of the curtly braces is as follows: {minimum, maximum}"
   ]
  },
  {
   "cell_type": "code",
   "execution_count": 18,
   "metadata": {},
   "outputs": [
    {
     "name": "stdout",
     "output_type": "stream",
     "text": [
      "Match tow digits numbers (minumun two, maximun ten): ['12']\n",
      "Match tow digits numbers (minumun two, maximun ten): ['123']\n",
      "Match tow digits numbers (minumun two, maximun ten): ['1234']\n",
      "Match tow digits numbers (minumun two, maximun ten): ['12345']\n",
      "Match tow digits numbers (minumun two, maximun ten): ['12345', '6789']\n",
      "Match tow digits numbers (minumun two, maximun ten): ['12', '345', '676']\n",
      "Match tow digits numbers (minumun two, maximun ten): ['12', '345', '676']\n",
      "Match tow digits numbers (minumun two, maximun ten): ['12', '345', '676', '33654']\n",
      "Match tow digits numbers (minumun two, maximun ten): ['123', '123343']\n",
      "\n",
      "Rows that do not match 3\n",
      "Rows that do match 9\n",
      "Total number of rows: 12\n"
     ]
    }
   ],
   "source": [
    "text = open('text_files_for_python_notebook/text_file_1.txt', 'r')\n",
    "\n",
    "c1 = 0\n",
    "c2 = 0\n",
    "pattern = '\\d{2,10}'\n",
    "pattern_text = 'Match tow digits numbers (minumun two, maximun ten):'\n",
    "\n",
    "for line in text:\n",
    "    line = line.rstrip()\n",
    "    if not re.search(pattern, line):\n",
    "        c1 = c1 + 1\n",
    "        continue\n",
    "    c2 = c2 + 1\n",
    "    print(pattern_text, re.findall(pattern, line))\n",
    "\n",
    "print('\\nRows that do not match', c1)\n",
    "print('Rows that do match', c2)\n",
    "print('Total number of rows:', c1 + c2)"
   ]
  },
  {
   "cell_type": "markdown",
   "metadata": {},
   "source": [
    "### Example 7 \n",
    "\n",
    "Using [] to create a specific match"
   ]
  },
  {
   "cell_type": "code",
   "execution_count": 19,
   "metadata": {},
   "outputs": [
    {
     "name": "stdout",
     "output_type": "stream",
     "text": [
      "Match one or more numbers following by a - or a . or a _ or a space wich is optional (the ? symbol): ['6665473892']\n",
      "Match one or more numbers following by a - or a . or a _ or a space wich is optional (the ? symbol): ['665-', '6785-', '345']\n",
      "Match one or more numbers following by a - or a . or a _ or a space wich is optional (the ? symbol): ['657.', '6787.', '456']\n",
      "Match one or more numbers following by a - or a . or a _ or a space wich is optional (the ? symbol): ['56789-', '543456']\n",
      "Match one or more numbers following by a - or a . or a _ or a space wich is optional (the ? symbol): ['56789 ', '65422']\n",
      "Match one or more numbers following by a - or a . or a _ or a space wich is optional (the ? symbol): ['56785.', '67788']\n",
      "Match one or more numbers following by a - or a . or a _ or a space wich is optional (the ? symbol): ['13456_', '78995']\n",
      "Match one or more numbers following by a - or a . or a _ or a space wich is optional (the ? symbol): ['54 ', '388 ', '5377055']\n",
      "\n",
      "Rows that do not match 2\n",
      "Rows that do match 8\n",
      "Total number of rows: 10\n"
     ]
    }
   ],
   "source": [
    "text = open('text_files_for_python_notebook/telephone_numbers.txt', 'r')\n",
    "\n",
    "c1 = 0\n",
    "c2 = 0\n",
    "# pattern = '[+]?(\\d{2,4}[ ]?){2,4}'\n",
    "pattern = '(\\d+[\\-\\._ ]?)'\n",
    "pattern_text = 'Match one or more numbers following by a - or a . or a _ or a space wich is optional (the ? symbol):'\n",
    "\n",
    "for line in text:\n",
    "    line = line.rstrip()\n",
    "    if not re.search(pattern, line):\n",
    "        c1 = c1 + 1\n",
    "        continue\n",
    "    c2 = c2 + 1\n",
    "    print(pattern_text, re.findall(pattern, line))\n",
    "\n",
    "print('\\nRows that do not match', c1)\n",
    "print('Rows that do match', c2)\n",
    "print('Total number of rows:', c1 + c2)"
   ]
  },
  {
   "cell_type": "markdown",
   "metadata": {},
   "source": [
    "### Example 8\n",
    "\n",
    "How to use the '?' character. By default regular expressions are greedy, that mean that go for everything that can find, for example the expression '.+,' reads find any character one or more times until you find a comma, as you can se en the following examples, the firs one is one match, but, the second one are individual matches."
   ]
  },
  {
   "cell_type": "code",
   "execution_count": 20,
   "metadata": {},
   "outputs": [
    {
     "name": "stdout",
     "output_type": "stream",
     "text": [
      ": ['123, 456, 789, 120,']\n",
      ": ['abf, asd, fgh,']\n",
      ": ['fr43, ghy6, hju7,']\n",
      "\n",
      "Rows that do not match 0\n",
      "Rows that do match 3\n",
      "Total number of rows: 3\n"
     ]
    }
   ],
   "source": [
    "text = open('text_files_for_python_notebook/text_file_2.txt', 'r')\n",
    "\n",
    "c1 = 0\n",
    "c2 = 0\n",
    "# pattern = '[+]?(\\d{2,4}[ ]?){2,4}'\n",
    "pattern = '.+,'\n",
    "pattern_text = ':'\n",
    "\n",
    "for line in text:\n",
    "    line = line.rstrip()\n",
    "    if not re.search(pattern, line):\n",
    "        c1 = c1 + 1\n",
    "        continue\n",
    "    c2 = c2 + 1\n",
    "    print(pattern_text, re.findall(pattern, line))\n",
    "\n",
    "print('\\nRows that do not match', c1)\n",
    "print('Rows that do match', c2)\n",
    "print('Total number of rows:', c1 + c2)"
   ]
  },
  {
   "cell_type": "markdown",
   "metadata": {},
   "source": [
    "Now using the '?' character:"
   ]
  },
  {
   "cell_type": "code",
   "execution_count": 21,
   "metadata": {},
   "outputs": [
    {
     "name": "stdout",
     "output_type": "stream",
     "text": [
      ": ['123,', ' 456,', ' 789,', ' 120,']\n",
      ": ['abf,', ' asd,', ' fgh,']\n",
      ": ['fr43,', ' ghy6,', ' hju7,']\n",
      "\n",
      "Rows that do not match 0\n",
      "Rows that do match 3\n",
      "Total number of rows: 3\n"
     ]
    }
   ],
   "source": [
    "text = open('text_files_for_python_notebook/text_file_2.txt', 'r')\n",
    "\n",
    "c1 = 0\n",
    "c2 = 0\n",
    "# pattern = '[+]?(\\d{2,4}[ ]?){2,4}'\n",
    "pattern = '.+?,'\n",
    "pattern_text = ':'\n",
    "\n",
    "for line in text:\n",
    "    line = line.rstrip()\n",
    "    if not re.search(pattern, line):\n",
    "        c1 = c1 + 1\n",
    "        continue\n",
    "    c2 = c2 + 1\n",
    "    print(pattern_text, re.findall(pattern, line))\n",
    "\n",
    "print('\\nRows that do not match', c1)\n",
    "print('Rows that do match', c2)\n",
    "print('Total number of rows:', c1 + c2)"
   ]
  },
  {
   "cell_type": "code",
   "execution_count": null,
   "metadata": {},
   "outputs": [],
   "source": []
  }
 ],
 "metadata": {
  "kernelspec": {
   "display_name": "Python 3.9.15 ('lolaPy')",
   "language": "python",
   "name": "python3"
  },
  "language_info": {
   "codemirror_mode": {
    "name": "ipython",
    "version": 3
   },
   "file_extension": ".py",
   "mimetype": "text/x-python",
   "name": "python",
   "nbconvert_exporter": "python",
   "pygments_lexer": "ipython3",
   "version": "3.9.15"
  },
  "orig_nbformat": 4,
  "vscode": {
   "interpreter": {
    "hash": "67204d157a8e40f23e6aefa927bbb2541f8c149b06802b04156e2ff351b478d9"
   }
  }
 },
 "nbformat": 4,
 "nbformat_minor": 2
}
